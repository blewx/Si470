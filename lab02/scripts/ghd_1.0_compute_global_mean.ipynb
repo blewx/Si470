{
 "cells": [
  {
   "cell_type": "code",
   "execution_count": 1,
   "id": "d16d68c3",
   "metadata": {},
   "outputs": [],
   "source": [
    "# Import packages\n",
    "import pandas as pd\n",
    "import os\n",
    "import os.path as osp\n",
    "import numpy as np\n",
    "import json\n",
    "import matplotlib.pyplot as plt\n",
    "from datetime import datetime"
   ]
  },
  {
   "cell_type": "code",
   "execution_count": 2,
   "id": "ce4fa925",
   "metadata": {},
   "outputs": [],
   "source": [
    "# Paths to directories\n",
    "currentdir = os.getcwd()\n",
    "inputdir = osp.realpath(osp.join(currentdir, '..', 'inputData'))\n",
    "moogaldir = osp.realpath(osp.join(currentdir, '..', 'MOOGALdefs'))\n",
    "outputdir = osp.realpath(osp.join(currentdir, '..', 'outputData'))"
   ]
  },
  {
   "cell_type": "code",
   "execution_count": 3,
   "id": "8d5534be",
   "metadata": {},
   "outputs": [],
   "source": [
    "current_date = datetime.today().strftime('%y%m%d')"
   ]
  },
  {
   "cell_type": "code",
   "execution_count": 4,
   "id": "48dccdd1",
   "metadata": {},
   "outputs": [],
   "source": [
    "# Load files\n",
    "economic = pd.read_csv(outputdir + '/M24_economic_activity_' + current_date + '.csv')\n",
    "TUS = pd.read_csv(outputdir + '/M24_TUS_and_youth_' + current_date + '.csv')\n",
    "\n",
    "GDP = pd.read_csv(inputdir + '/gdp_per_capita.csv').set_index('country_iso3')\n",
    "GDP = GDP.dropna(axis=0, how='all')\n",
    "\n",
    "indexfile = pd.read_csv(inputdir + '/indexfile.csv').set_index(['countryISO3'])\n",
    "indexfile = indexfile[indexfile['include'] == 1.0]\n",
    "\n",
    "demography = pd.read_csv(inputdir + '/demography.csv').set_index(['countryISO3','year'])"
   ]
  },
  {
   "cell_type": "code",
   "execution_count": 5,
   "id": "b45edfe2",
   "metadata": {},
   "outputs": [],
   "source": [
    "# WPAC reclassified, remove empty rows\n",
    "economic = economic[economic['region_code'] != 'WPAC']\n",
    "\n",
    "# Rename TUS subcat of organization to allocation, and things to artifacts\n",
    "TUS['subcategory'] = TUS['subcategory'].str.replace('organization', 'allocation')\n",
    "TUS['subcategory'] = TUS['subcategory'].str.replace('things', 'artifacts')\n",
    "economic['subcategory'] = economic['subcategory'].str.replace('things', 'artifacts')"
   ]
  },
  {
   "cell_type": "code",
   "execution_count": 26,
   "id": "7ec2e297",
   "metadata": {},
   "outputs": [],
   "source": [
    "categories = ['Experience oriented', 'Somatic maintenance', 'Organization', 'Technosphere modification',             \n",
    "              'Somatic maintenance', 'Deliberate neural restructuring', 'Nonfood provision', 'Food provision', \n",
    "              'Somatic maintenance', 'Technosphere modification', 'Maintenance of surroundings', \n",
    "              'Experience oriented', 'Nonfood provision', 'Experience oriented', 'Organization', 'Organization', \n",
    "              'Experience oriented', 'Food provision', 'Food provision', 'Deliberate neural restructuring', \n",
    "              'Somatic maintenance', 'Experience oriented', 'Technosphere modification', \n",
    "              'Maintenance of surroundings']\n",
    "\n",
    "cat_num = [8,5,7,3,5,6,2,1,5,3,4,8,2,8,7,7,8,1,1,6,5,8,3,5]\n",
    "\n",
    "subcategories = ['Active recreation','Health care','Allocation','Buildings','Physical child care',\n",
    "                'Schooling & research','Energy','Food growth & collection','Hygiene & grooming','Infrastructure',\n",
    "                'Inhabited environment','Interactive','Materials','Meals','Human transportation',\n",
    "                'Material transportation','Passive','Food preparation','Food processing','Religious practice',\n",
    "                'Sleep & bedrest','Social','Artifacts','Waste management']"
   ]
  },
  {
   "cell_type": "code",
   "execution_count": 64,
   "id": "a9473283",
   "metadata": {},
   "outputs": [],
   "source": [
    "# Compute global human day\n",
    "\n",
    "TUS_all = TUS[['countryISO3','subcategory','hoursPerDay','uncertainty','dataStatus']]\n",
    "economic_all = economic.rename(columns={\\\n",
    "        'hoursPerDay':'hoursPerDayEconomic','uncertainty':'uncertaintyEconomic','dataStatus':'dataStatusEconomic'})\n",
    "\n",
    "all_data = economic_all.merge(TUS_all, on=['countryISO3','subcategory']).set_index('subcategory')\n",
    "group = all_data.groupby('countryISO3')\n",
    "\n",
    "all_data_list = []\n",
    "all_data_econ_list = []\n",
    "\n",
    "for name, grp in group:\n",
    "    economic_worktime = grp['hoursPerDayEconomic'].sum()\n",
    "    TUS_work_employment = grp.loc['work_employment']['hoursPerDay']\n",
    "    \n",
    "    # Replace M24 subcategory codenames with proper publication names\n",
    "    grp = grp.drop(['work_employment','work_other'], axis=0)\n",
    "    grp['Subcategory'] = subcategories\n",
    "    grp['Category'] = categories\n",
    "    grp['catNum'] = cat_num\n",
    "    grp = grp.set_index(['Category','Subcategory']).sort_values(by='catNum').drop('catNum', axis=1)\n",
    "        \n",
    "    # Assume TUS is correct estimation of total working time, scale economic working time to fit (see SI for detail)\n",
    "    worktime_ratio = TUS_work_employment / economic_worktime\n",
    "    \n",
    "    # Add the worktime ratio to uncertainty in economic working time\n",
    "    grp['uncertaintyEconomic'] = grp['uncertaintyEconomic'] + abs(1 - worktime_ratio)**2 * \\\n",
    "                                                                        grp['hoursPerDayEconomic']**2\n",
    "    \n",
    "    grp['hoursPerDayEconomic'] = grp['hoursPerDayEconomic'].apply(lambda x: x * worktime_ratio)\n",
    "    \n",
    "    # Combine TUS with economic\n",
    "    grp['hoursPerDayCombined'] = grp['hoursPerDay'] + grp['hoursPerDayEconomic']\n",
    "    # Uncertainty is in units of variance\n",
    "    grp['uncertaintyCombined'] = grp['uncertainty'] + grp['uncertaintyEconomic'] \n",
    "    \n",
    "    all_data_list.append(grp[['countryISO3','region_code','population','hoursPerDayCombined',\\\n",
    "                              'uncertaintyCombined','dataStatus','dataStatusEconomic']]) \n",
    "    \n",
    "    all_data_econ_list.append(grp[['countryISO3','region_code','population','hoursPerDayEconomic',\\\n",
    "                                   'uncertaintyEconomic']])\n",
    "\n",
    "# Global Human Day\n",
    "all_data_combined = pd.concat(all_data_list)\n",
    "\n",
    "total_pop = all_data_combined['population'].unique().sum()\n",
    "\n",
    "person_hours = all_data_combined['hoursPerDayCombined'] * all_data_combined['population']\n",
    "global_M24_hours = (person_hours / total_pop).groupby('Subcategory').sum()\n",
    "\n",
    "pop_weight = all_data_combined['population'] / total_pop\n",
    "var_combined = all_data_combined['uncertaintyCombined']\n",
    "\n",
    "global_M24_uncertainty = (pop_weight**2 * var_combined).groupby('Subcategory').sum()\n",
    "\n",
    "global_M24_all = pd.DataFrame(global_M24_hours, columns=['hoursPerDay'])\n",
    "global_M24_all['uncertainty'] = 2*np.sqrt(global_M24_uncertainty)\n",
    "\n",
    "# Global Economic Activity\n",
    "all_data_econ_combined = pd.concat(all_data_econ_list)\n",
    "\n",
    "person_hours = all_data_econ_combined['hoursPerDayEconomic'] * all_data_econ_combined['population']\n",
    "global_M24_hours = (person_hours / total_pop).groupby('Subcategory').sum()\n",
    "\n",
    "var_combined_econ = all_data_econ_combined['uncertaintyEconomic']\n",
    "pop_weight = all_data_econ_combined['population'] / total_pop\n",
    "\n",
    "global_M24_uncertainty = (pop_weight**2 * var_combined_econ).groupby('Subcategory').sum()\n",
    "\n",
    "global_M24_econ_all = pd.DataFrame(global_M24_hours, columns=['hoursPerDay'])\n",
    "global_M24_econ_all['uncertainty'] = 2*np.sqrt(global_M24_uncertainty)"
   ]
  },
  {
   "cell_type": "code",
   "execution_count": 65,
   "id": "1a244524",
   "metadata": {},
   "outputs": [],
   "source": [
    "difference = (global_M24_all['hoursPerDay'].sum() - 24)\n",
    "initial_hours = global_M24_all['hoursPerDay'].sum()\n",
    "\n",
    "adj = global_M24_all['hoursPerDay'].apply(lambda t: t - (difference * t / initial_hours))\n",
    "global_M24_all['hoursPerDay'] = adj\n",
    "\n",
    "global_M24_all = round(global_M24_all,2)\n",
    "global_M24_econ_all = round(global_M24_econ_all,2)\n",
    "all_data_combined['hoursPerDayCombined'] = round(all_data_combined['hoursPerDayCombined'],2)"
   ]
  },
  {
   "cell_type": "code",
   "execution_count": 66,
   "id": "cff2c03a",
   "metadata": {},
   "outputs": [],
   "source": [
    "# Save out main GHD estimate\n",
    "global_M24_all.to_csv(outputdir + '/global_human_day_' + current_date + '.csv')\n",
    "global_M24_econ_all.to_csv(outputdir + '/global_economic_activity_' + current_date + '.csv')\n",
    "\n",
    "# Save out the by-country combined data\n",
    "all_data_combined.to_csv(outputdir + '/all_countries_' + current_date + '.csv')"
   ]
  },
  {
   "cell_type": "code",
   "execution_count": null,
   "id": "d0a7014c",
   "metadata": {},
   "outputs": [],
   "source": []
  },
  {
   "cell_type": "code",
   "execution_count": null,
   "id": "6cd9d555",
   "metadata": {},
   "outputs": [],
   "source": []
  }
 ],
 "metadata": {
  "kernelspec": {
   "display_name": "Python 3 (ipykernel)",
   "language": "python",
   "name": "python3"
  },
  "language_info": {
   "codemirror_mode": {
    "name": "ipython",
    "version": 3
   },
   "file_extension": ".py",
   "mimetype": "text/x-python",
   "name": "python",
   "nbconvert_exporter": "python",
   "pygments_lexer": "ipython3",
   "version": "3.11.3"
  }
 },
 "nbformat": 4,
 "nbformat_minor": 5
}
